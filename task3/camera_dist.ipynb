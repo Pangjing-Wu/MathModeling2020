{
 "metadata": {
  "language_info": {
   "codemirror_mode": {
    "name": "ipython",
    "version": 3
   },
   "file_extension": ".py",
   "mimetype": "text/x-python",
   "name": "python",
   "nbconvert_exporter": "python",
   "pygments_lexer": "ipython3",
   "version": "3.7.0-final"
  },
  "orig_nbformat": 2,
  "kernelspec": {
   "name": "python_defaultSpec_1600567567936",
   "display_name": "Python 3.7.0 64-bit ('pytorch': conda)"
  }
 },
 "nbformat": 4,
 "nbformat_minor": 2,
 "cells": [
  {
   "cell_type": "code",
   "execution_count": 1,
   "metadata": {},
   "outputs": [],
   "source": [
    "import math"
   ]
  },
  {
   "cell_type": "code",
   "execution_count": 2,
   "metadata": {},
   "outputs": [
    {
     "output_type": "execute_result",
     "data": {
      "text/plain": "-0.10085662959832167"
     },
     "metadata": {},
     "execution_count": 2
    }
   ],
   "source": [
    "k = -0.1012\n",
    "angle = math.atan(k)\n",
    "angle"
   ]
  },
  {
   "cell_type": "code",
   "execution_count": 3,
   "metadata": {},
   "outputs": [
    {
     "output_type": "execute_result",
     "data": {
      "text/plain": "11.056184434062232"
     },
     "metadata": {},
     "execution_count": 3
    }
   ],
   "source": [
    "road_width = 11\n",
    "equipotential_line_width = road_width / math.cos(angle)\n",
    "equipotential_line_width"
   ]
  },
  {
   "cell_type": "code",
   "execution_count": 4,
   "metadata": {},
   "outputs": [
    {
     "output_type": "execute_result",
     "data": {
      "text/plain": "-54.904426086956505"
     },
     "metadata": {},
     "execution_count": 4
    }
   ],
   "source": [
    "angle_c = math.pi / 2 - angle\n",
    "vertical_dist = (equipotential_line_width / 2) / math.cos(angle_c)\n",
    "vertical_dist"
   ]
  },
  {
   "cell_type": "code",
   "execution_count": 5,
   "metadata": {},
   "outputs": [
    {
     "output_type": "execute_result",
     "data": {
      "text/plain": "-0.3542"
     },
     "metadata": {},
     "execution_count": 5
    }
   ],
   "source": [
    "vertical_dist = vertical_dist - 3.5 * math.tan(angle)\n",
    "3.5 * math.tan(angle)"
   ]
  },
  {
   "cell_type": "code",
   "execution_count": 6,
   "metadata": {},
   "outputs": [
    {
     "output_type": "execute_result",
     "data": {
      "text/plain": "39.7502260869565"
     },
     "metadata": {},
     "execution_count": 6
    }
   ],
   "source": [
    "vertical_dist = abs(vertical_dist) - 14.8\n",
    "vertical_dist"
   ]
  },
  {
   "cell_type": "code",
   "execution_count": 7,
   "metadata": {},
   "outputs": [
    {
     "output_type": "execute_result",
     "data": {
      "text/plain": "25.1502260869565"
     },
     "metadata": {},
     "execution_count": 7
    }
   ],
   "source": [
    "vertical_dist - 14.6"
   ]
  }
 ]
}